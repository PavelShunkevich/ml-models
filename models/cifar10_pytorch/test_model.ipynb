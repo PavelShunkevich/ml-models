{
 "cells": [
  {
   "cell_type": "markdown",
   "id": "7f1e4092-fdb4-4b4a-9da2-6b357070c5b2",
   "metadata": {},
   "source": [
    "# Import libraries"
   ]
  },
  {
   "cell_type": "code",
   "execution_count": 26,
   "id": "00891cef-ef4d-4e8f-980a-ed0493f1f999",
   "metadata": {},
   "outputs": [
    {
     "data": {
      "text/plain": [
       "<torch._C.Generator at 0x1ebc9539f30>"
      ]
     },
     "execution_count": 26,
     "metadata": {},
     "output_type": "execute_result"
    }
   ],
   "source": [
    "%matplotlib inline\n",
    "\n",
    "import datetime\n",
    "import collections\n",
    "\n",
    "import numpy as np\n",
    "import ps_data_science_tools as ps_dst\n",
    "from nn_modules import NetDropout\n",
    "import matplotlib.pyplot as plt\n",
    "\n",
    "import torch\n",
    "import torch.nn as nn\n",
    "import torch.nn.functional as F\n",
    "import torch.optim as optim\n",
    "from torch.utils.data import DataLoader\n",
    "from torchvision import datasets, transforms\n",
    "\n",
    "torch.set_printoptions(edgeitems=2)\n",
    "torch.manual_seed(42)"
   ]
  },
  {
   "cell_type": "markdown",
   "id": "f97e16cd-34b8-4da8-a839-b6b44ed48e2e",
   "metadata": {},
   "source": [
    "# Load data"
   ]
  },
  {
   "cell_type": "code",
   "execution_count": 27,
   "id": "645c7a6b-5774-44e8-a4b6-cf93448fba37",
   "metadata": {},
   "outputs": [
    {
     "name": "stdout",
     "output_type": "stream",
     "text": [
      "Files already downloaded and verified\n",
      "Files already downloaded and verified\n"
     ]
    }
   ],
   "source": [
    "data_path = '../cifar10_pytorch/data'\n",
    "class_names = ['airplane','automobile','bird','cat','deer',\n",
    "               'dog','frog','horse','ship','truck']\n",
    "class_names_dict = dict(zip(range(len(class_names)), class_names))\n",
    "\n",
    "# load dict with consts\n",
    "dict_consts = torch.load('dict_consts.pth', weights_only=False)\n",
    "mean = dict_consts['mean']\n",
    "std = dict_consts['std']\n",
    "\n",
    "cifar10_val = datasets.CIFAR10(\n",
    "    data_path, train=False, download=True,\n",
    "    transform=transforms.Compose([\n",
    "        transforms.ToTensor(),\n",
    "        transforms.Normalize(mean, std)\n",
    "    ]))\n",
    "\n",
    "cifar10_val_without_norm = datasets.CIFAR10(\n",
    "    data_path, train=False, download=True,\n",
    "    transform=transforms.Compose([\n",
    "        transforms.ToTensor(),\n",
    "    ]))"
   ]
  },
  {
   "cell_type": "markdown",
   "id": "01b4262b-fec7-4c49-bd08-fe9ff0647048",
   "metadata": {},
   "source": [
    "# Load model"
   ]
  },
  {
   "cell_type": "code",
   "execution_count": 29,
   "id": "14b28152-42ae-48b3-8111-59ccab894584",
   "metadata": {},
   "outputs": [
    {
     "name": "stdout",
     "output_type": "stream",
     "text": [
      "The model is ready for use in eval mode on cuda\n"
     ]
    }
   ],
   "source": [
    "# Device Configuration\n",
    "device = (torch.device('cuda') if torch.cuda.is_available()\n",
    "          else torch.device('cpu'))\n",
    "\n",
    "model = NetDropout(n_chans1=64).to(device)\n",
    "model.load_state_dict(torch.load('model_' +'cifar10.pt', weights_only=True, map_location=device))\n",
    "model.eval()\n",
    "\n",
    "# Теперь `model` готова к использованию для инференса!\n",
    "print(f\"The model is ready for use in eval mode on {device}\")"
   ]
  },
  {
   "cell_type": "markdown",
   "id": "e769d4c0-fb5e-4fc7-9076-8977d08addcd",
   "metadata": {},
   "source": [
    "# Model tests"
   ]
  },
  {
   "cell_type": "code",
   "execution_count": 82,
   "id": "d04ea0a4-24e6-41a7-a060-697331164932",
   "metadata": {},
   "outputs": [
    {
     "name": "stdout",
     "output_type": "stream",
     "text": [
      "Class: bird\n"
     ]
    },
    {
     "data": {
      "image/png": "[encoded data removed]",
      "text/plain": [
       "<Figure size 640x480 with 1 Axes>"
      ]
     },
     "metadata": {},
     "output_type": "display_data"
    }
   ],
   "source": [
    "image_number = 135 # 577 - incorrect\n",
    "\n",
    "\n",
    "ps_dst.show_picture_cifar10(cifar10_val_without_norm[image_number])"
   ]
  },
  {
   "cell_type": "code",
   "execution_count": 83,
   "id": "98dfb936-58a9-444d-929c-36e1e0f37d43",
   "metadata": {},
   "outputs": [],
   "source": [
    "# predict\n",
    "outputs = model(cifar10_val[image_number][0].to(device).unsqueeze(0))\n",
    "_, predicted = torch.max(outputs, dim=1)"
   ]
  },
  {
   "cell_type": "code",
   "execution_count": 84,
   "id": "f0d65a39-bfd7-4318-85a0-2a5f543f0be0",
   "metadata": {},
   "outputs": [
    {
     "name": "stdout",
     "output_type": "stream",
     "text": [
      "\n",
      "Real answer: bird\n",
      "Model answer: bird\n",
      "\n",
      "Result:\n",
      "Model response is correct\n",
      "\n"
     ]
    }
   ],
   "source": [
    "# validate\n",
    "real_answer = class_names_dict[cifar10_val_without_norm[image_number][1]]\n",
    "model_answer = class_names_dict[predicted.item()]\n",
    "if real_answer == model_answer:\n",
    "    result = 'correct'\n",
    "else:\n",
    "    result = 'incorrect'\n",
    "    \n",
    "\n",
    "print(f\"\"\"\n",
    "Real answer: {real_answer}\n",
    "Model answer: {model_answer}\n",
    "\n",
    "Result:\n",
    "Model response is {result}\n",
    "\"\"\")"
   ]
  }
 ],
 "metadata": {
  "kernelspec": {
   "display_name": "Python 3 (ipykernel)",
   "language": "python",
   "name": "python3"
  },
  "language_info": {
   "codemirror_mode": {
    "name": "ipython",
    "version": 3
   },
   "file_extension": ".py",
   "mimetype": "text/x-python",
   "name": "python",
   "nbconvert_exporter": "python",
   "pygments_lexer": "ipython3",
   "version": "3.12.8"
  }
 },
 "nbformat": 4,
 "nbformat_minor": 5
}
