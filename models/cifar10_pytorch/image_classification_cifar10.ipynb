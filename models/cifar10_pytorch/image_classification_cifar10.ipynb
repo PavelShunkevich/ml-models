{
 "cells": [
  {
   "cell_type": "markdown",
   "id": "7f1e4092-fdb4-4b4a-9da2-6b357070c5b2",
   "metadata": {},
   "source": [
    "# Import libraries"
   ]
  },
  {
   "cell_type": "code",
   "execution_count": 1,
   "id": "00891cef-ef4d-4e8f-980a-ed0493f1f999",
   "metadata": {},
   "outputs": [
    {
     "data": {
      "text/plain": [
       "<torch._C.Generator at 0x1973be160f0>"
      ]
     },
     "execution_count": 1,
     "metadata": {},
     "output_type": "execute_result"
    }
   ],
   "source": [
    "%matplotlib inline\n",
    "\n",
    "import datetime\n",
    "import collections\n",
    "\n",
    "import numpy as np\n",
    "import ps_data_science_tools as ps_dst\n",
    "from nn_modules import NetDropout\n",
    "import matplotlib.pyplot as plt\n",
    "\n",
    "import torch\n",
    "import torch.nn as nn\n",
    "import torch.nn.functional as F\n",
    "import torch.optim as optim\n",
    "from torch.utils.data import DataLoader\n",
    "from torchvision import datasets, transforms\n",
    "\n",
    "torch.set_printoptions(edgeitems=2)\n",
    "torch.manual_seed(42)"
   ]
  },
  {
   "cell_type": "markdown",
   "id": "f97e16cd-34b8-4da8-a839-b6b44ed48e2e",
   "metadata": {},
   "source": [
    "# Dataset Loading and Preprocessing"
   ]
  },
  {
   "cell_type": "code",
   "execution_count": 2,
   "id": "645c7a6b-5774-44e8-a4b6-cf93448fba37",
   "metadata": {},
   "outputs": [
    {
     "name": "stdout",
     "output_type": "stream",
     "text": [
      "Files already downloaded and verified\n"
     ]
    }
   ],
   "source": [
    "data_path = '../cifar10_pytorch/data'\n",
    "class_names = ['airplane','automobile','bird','cat','deer',\n",
    "               'dog','frog','horse','ship','truck']\n",
    "class_names_dict = dict(zip(range(len(class_names)), class_names))\n",
    "\n",
    "cifar10 = datasets.CIFAR10(\n",
    "    data_path, train=True, download=True,\n",
    "    transform=transforms.Compose([\n",
    "        transforms.ToTensor()\n",
    "    ]))"
   ]
  },
  {
   "cell_type": "code",
   "execution_count": 3,
   "id": "cd17fbc4-51a9-4974-959a-0706c82dd31d",
   "metadata": {},
   "outputs": [
    {
     "name": "stdout",
     "output_type": "stream",
     "text": [
      "Mean (RGB): tensor([0.4914, 0.4822, 0.4465])\n",
      "Std Dev (RGB): tensor([0.2470, 0.2435, 0.2616])\n"
     ]
    }
   ],
   "source": [
    "# DataLoader \n",
    "dataloader = DataLoader(cifar10, batch_size=64, shuffle=False, num_workers=2)\n",
    "\n",
    "# compute mean and std\n",
    "mean, std = ps_dst.compute_mean_and_std(dataloader)\n",
    "\n",
    "# save consts\n",
    "dict_consts = {'mean': mean, 'std': std}\n",
    "torch.save(dict_consts, 'dict_consts.pth')\n",
    "\n",
    "# Out\n",
    "print(f\"Mean (RGB): {mean}\")\n",
    "print(f\"Std Dev (RGB): {std}\")"
   ]
  },
  {
   "cell_type": "code",
   "execution_count": 4,
   "id": "4c577f2c-88ec-4b43-9a2a-1680533704a2",
   "metadata": {},
   "outputs": [
    {
     "name": "stdout",
     "output_type": "stream",
     "text": [
      "Files already downloaded and verified\n",
      "Files already downloaded and verified\n"
     ]
    }
   ],
   "source": [
    "# loading with normalization\n",
    "cifar10 = datasets.CIFAR10(\n",
    "    data_path, train=True, download=True,\n",
    "    transform=transforms.Compose([\n",
    "        transforms.ToTensor(),\n",
    "        transforms.Normalize(mean, std)\n",
    "    ]))\n",
    "cifar10_val = datasets.CIFAR10(\n",
    "    data_path, train=False, download=True,\n",
    "    transform=transforms.Compose([\n",
    "        transforms.ToTensor(),\n",
    "        transforms.Normalize(mean, std)\n",
    "    ]))"
   ]
  },
  {
   "cell_type": "markdown",
   "id": "7660be09-2a8e-4579-86aa-11f02c2ba193",
   "metadata": {},
   "source": [
    "# Create model"
   ]
  },
  {
   "cell_type": "code",
   "execution_count": 5,
   "id": "61418076-114b-40ec-8052-e3f18926a534",
   "metadata": {},
   "outputs": [
    {
     "name": "stdout",
     "output_type": "stream",
     "text": [
      "Training on device cuda.\n"
     ]
    }
   ],
   "source": [
    "# Device Configuration\n",
    "device = (torch.device('cuda') if torch.cuda.is_available()\n",
    "          else torch.device('cpu'))\n",
    "print(f\"Training on device {device}.\")"
   ]
  },
  {
   "cell_type": "code",
   "execution_count": 6,
   "id": "ed620d5a-26de-41c1-859f-d5df567b85bb",
   "metadata": {},
   "outputs": [],
   "source": [
    "# Loader Initialization\n",
    "batch_size = 256\n",
    "train_loader = DataLoader(cifar10, batch_size=batch_size,\n",
    "                                           shuffle=True)\n",
    "val_loader = DataLoader(cifar10_val, batch_size=batch_size,\n",
    "                                         shuffle=False)\n",
    "\n",
    "# Checking for NaN and Inf in batches\n",
    "for images, labels in train_loader:\n",
    "    has_nan_or_inf = torch.isnan(images).any() or torch.isinf(images).any()\n",
    "    if has_nan_or_inf:\n",
    "        print(\"Found NaN or Inf in batch!\")"
   ]
  },
  {
   "cell_type": "code",
   "execution_count": 7,
   "id": "b21fa83b-c6ed-42bc-be4a-0903156fad4f",
   "metadata": {},
   "outputs": [
    {
     "name": "stdout",
     "output_type": "stream",
     "text": [
      "Training on device cuda.\n",
      "2025-01-25 23:34:40.122028 Epoch 1, Training loss: 1.7295\n",
      "2025-01-25 23:35:59.669631 Epoch 10, Training loss: 0.3545\n",
      "2025-01-25 23:37:28.184442 Epoch 20, Training loss: 0.0869\n",
      "2025-01-25 23:38:56.948197 Epoch 30, Training loss: 0.0559\n",
      "2025-01-25 23:40:25.468630 Epoch 40, Training loss: 0.0477\n",
      "2025-01-25 23:41:53.563204 Epoch 50, Training loss: 0.0369\n",
      "2025-01-25 23:43:22.159383 Epoch 60, Training loss: 0.0316\n",
      "2025-01-25 23:44:50.252934 Epoch 70, Training loss: 0.0273\n",
      "2025-01-25 23:46:18.655337 Epoch 80, Training loss: 0.0281\n",
      "2025-01-25 23:47:46.849180 Epoch 90, Training loss: 0.0245\n",
      "2025-01-25 23:49:16.166705 Epoch 100, Training loss: 0.0222\n",
      "Evaluating on device cuda.\n"
     ]
    },
    {
     "data": {
      "text/plain": [
       "{'train': {'accuracy': 0.995}, 'val': {'accuracy': 0.8111}}"
      ]
     },
     "execution_count": 7,
     "metadata": {},
     "output_type": "execute_result"
    }
   ],
   "source": [
    "model = NetDropout(n_chans1=64).to(device=device)\n",
    "optimizer = optim.Adam(model.parameters(), lr=1e-2)\n",
    "loss_fn = nn.CrossEntropyLoss()\n",
    "\n",
    "ps_dst.training_loop(\n",
    "    n_epochs = 100,\n",
    "    optimizer = optimizer,\n",
    "    model = model,\n",
    "    loss_fn = loss_fn,\n",
    "    train_loader = train_loader,\n",
    "    device = device\n",
    ")\n",
    "ps_dst.evaluate(model, train_loader, val_loader, device)"
   ]
  },
  {
   "cell_type": "markdown",
   "id": "03a6a8e8-3d0c-4897-a16b-4ab855fa63b3",
   "metadata": {},
   "source": [
    "model info"
   ]
  },
  {
   "cell_type": "code",
   "execution_count": 8,
   "id": "7b753d83-d430-4e14-9068-83c7459ad330",
   "metadata": {},
   "outputs": [
    {
     "data": {
      "text/plain": [
       "1185290"
      ]
     },
     "execution_count": 8,
     "metadata": {},
     "output_type": "execute_result"
    }
   ],
   "source": [
    "# count parameters\n",
    "sum([p.numel() for p in model.parameters()])"
   ]
  },
  {
   "cell_type": "markdown",
   "id": "2bbc055b-8e44-4949-943d-ebec07451641",
   "metadata": {},
   "source": [
    "save model"
   ]
  },
  {
   "cell_type": "code",
   "execution_count": 9,
   "id": "e3bf27f8-ff08-4d75-b6b0-e043d3764ca5",
   "metadata": {},
   "outputs": [],
   "source": [
    "torch.save(model.state_dict(), 'model_' +'cifar10.pt')"
   ]
  }
 ],
 "metadata": {
  "kernelspec": {
   "display_name": "Python 3 (ipykernel)",
   "language": "python",
   "name": "python3"
  },
  "language_info": {
   "codemirror_mode": {
    "name": "ipython",
    "version": 3
   },
   "file_extension": ".py",
   "mimetype": "text/x-python",
   "name": "python",
   "nbconvert_exporter": "python",
   "pygments_lexer": "ipython3",
   "version": "3.12.8"
  }
 },
 "nbformat": 4,
 "nbformat_minor": 5
}
